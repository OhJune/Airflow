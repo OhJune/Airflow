{
 "cells": [
  {
   "cell_type": "code",
   "execution_count": 1,
   "metadata": {},
   "outputs": [],
   "source": [
    "import redis\n",
    "import pymongo\n",
    "\n",
    "# Redis 연결\n",
    "r = redis.StrictRedis(host='35.216.91.72', port=6379, db=4, password='AlsongDlsong')\n",
    "\n",
    "# MongoDB 연결\n",
    "client = pymongo.MongoClient(\"mongodb://35.216.46.25:27017/\")\n",
    "db = client[\"mydatabase\"]\n",
    "coll = db[\"mycollection\"]\n",
    "\n",
    "# 모든 키값 조회\n",
    "keys = r.keys(\"*\")\n",
    "\n",
    "# 키값의 데이터를 MongoDB에 적재\n",
    "for key in keys:\n",
    "    coll.insert_one({\"key\":key.decode('utf-8'), \"value\":r.get(key).decode('utf-8')})"
   ]
  },
  {
   "cell_type": "code",
   "execution_count": 2,
   "metadata": {},
   "outputs": [],
   "source": []
  },
  {
   "cell_type": "code",
   "execution_count": 9,
   "metadata": {},
   "outputs": [
    {
     "data": {
      "text/plain": [
       "datetime.datetime(2023, 8, 8, 16, 52, 18, 37611)"
      ]
     },
     "execution_count": 9,
     "metadata": {},
     "output_type": "execute_result"
    }
   ],
   "source": [
    "datetime.datetime.now()"
   ]
  }
 ],
 "metadata": {
  "kernelspec": {
   "display_name": "Python 3",
   "language": "python",
   "name": "python3"
  },
  "language_info": {
   "codemirror_mode": {
    "name": "ipython",
    "version": 3
   },
   "file_extension": ".py",
   "mimetype": "text/x-python",
   "name": "python",
   "nbconvert_exporter": "python",
   "pygments_lexer": "ipython3",
   "version": "3.10.6"
  },
  "orig_nbformat": 4
 },
 "nbformat": 4,
 "nbformat_minor": 2
}
